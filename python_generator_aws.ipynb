{
  "nbformat": 4,
  "nbformat_minor": 0,
  "metadata": {
    "colab": {
      "provenance": [],
      "authorship_tag": "ABX9TyMyeVWtnH28bKm0jxQ1Z9KM",
      "include_colab_link": true
    },
    "kernelspec": {
      "name": "python3",
      "display_name": "Python 3"
    },
    "language_info": {
      "name": "python"
    }
  },
  "cells": [
    {
      "cell_type": "markdown",
      "metadata": {
        "id": "view-in-github",
        "colab_type": "text"
      },
      "source": [
        "<a href=\"https://colab.research.google.com/github/AlessandraMayumi/python-generator/blob/main/python_generator_aws.ipynb\" target=\"_parent\"><img src=\"https://colab.research.google.com/assets/colab-badge.svg\" alt=\"Open In Colab\"/></a>"
      ]
    },
    {
      "cell_type": "markdown",
      "source": [
        "# Introduction\n",
        "\n",
        "I want to share how to develop a implementation from the high level problem to a solution from a scratch code and increasing complexity"
      ],
      "metadata": {
        "id": "D0RMFPEvaf_m"
      }
    },
    {
      "cell_type": "markdown",
      "source": [
        "## Problem\n",
        "Generate a response containing how many empty cells for each header in a csv file stored in a s3 bucket. This process have to be in a aws lambda."
      ],
      "metadata": {
        "id": "CmH1cDDZZ5KM"
      }
    },
    {
      "cell_type": "markdown",
      "source": [
        "# Hands on\n"
      ],
      "metadata": {
        "id": "WT37KiyqbLzV"
      }
    },
    {
      "cell_type": "markdown",
      "source": [
        "### Create a project\n",
        "I started this python study project in *GitHub* repository https://github.com/AlessandraMayumi/python-generator. Then I created this Colab nootebook and saved a copy of this notebook on github."
      ],
      "metadata": {
        "id": "IPdGXRkKT-H1"
      }
    },
    {
      "cell_type": "markdown",
      "source": [
        "### Reading a csv file with pandas\n",
        "Before thinking about aws resources, let's try to retrieve the result from a local csv file as expected in the Prom description.\n",
        "\n",
        "#### References\n",
        "- w3schools: https://www.w3schools.com/python/pandas/pandas_csv.asp\n",
        "\n"
      ],
      "metadata": {
        "id": "Gdd9NJtJSThq"
      }
    },
    {
      "cell_type": "code",
      "execution_count": 15,
      "metadata": {
        "colab": {
          "base_uri": "https://localhost:8080/"
        },
        "id": "56GcCDn7IhID",
        "outputId": "c2368c93-68b2-44d3-9524-871a9caa1c42"
      },
      "outputs": [
        {
          "output_type": "stream",
          "name": "stdout",
          "text": [
            "    id firstname  lastname                         email  \\\n",
            "0  397      Lita     Ardra        Lita.Ardra@yopmail.com   \n",
            "1  398    Carree     Giule      Carree.Giule@yopmail.com   \n",
            "2  399  Brandise   Goddard  Brandise.Goddard@yopmail.com   \n",
            "3  400     Dotty   Eckblad     Dotty.Eckblad@yopmail.com   \n",
            "4  401   Chickie  Gamaliel  Chickie.Gamaliel@yopmail.com   \n",
            "\n",
            "                       email2 profession  \n",
            "0        Lita.Ardra@gmail.com     doctor  \n",
            "1      Carree.Giule@gmail.com     worker  \n",
            "2  Brandise.Goddard@gmail.com     worker  \n",
            "3     Dotty.Eckblad@gmail.com     worker  \n",
            "4  Chickie.Gamaliel@gmail.com     worker  \n"
          ]
        }
      ],
      "source": [
        "import pandas as pd\n",
        "\n",
        "df = pd.read_csv('/content/sample_data/california_housing_test.csv')\n",
        "print(df.head())"
      ]
    },
    {
      "cell_type": "markdown",
      "source": [
        "### Prepare a test csv file\n",
        "Generate a csv file and clear some cells\n",
        "\n",
        "#### References\n",
        "- python open - https://www.pythontutorial.net/python-basics/python-read-text-file/\n",
        "- csv generator: https://extendsclass.com/csv-generator.html"
      ],
      "metadata": {
        "id": "KFSwGbzjl2BR"
      }
    },
    {
      "cell_type": "code",
      "source": [
        "import pandas as pd\n",
        "import random\n",
        "\n",
        "\"\"\" The test csv file should have some empty cells \"\"\"\n",
        "\n",
        "filename_test = 'mock_empty_register.csv'\n",
        "filepath_test = f'/content/sample_data/{filename_test}'\n",
        "filepath_original = '/content/sample_data/mock_register.csv'\n",
        "\n",
        "def modify_empty_cells():\n",
        "  df = pd.read_csv(filepath_original)\n",
        "\n",
        "  num_row, num_col = df.shape\n",
        "\n",
        "  for i in range(100):\n",
        "    x = random.randrange(num_row)\n",
        "    y = random.randrange(1, num_col)\n",
        "    df.loc[x, df.columns[y]] = None\n",
        "\n",
        "  df.to_csv(filepath_test)\n",
        "\n",
        "  print(f'Test csv file generated: {filename_test}')\n",
        "\n",
        "modify_empty_cells()\n"
      ],
      "metadata": {
        "colab": {
          "base_uri": "https://localhost:8080/"
        },
        "id": "dKmkYB2ol0q2",
        "outputId": "88dc06a7-693f-4da5-c617-feb3806a87cd"
      },
      "execution_count": 71,
      "outputs": [
        {
          "output_type": "stream",
          "name": "stdout",
          "text": [
            "Test csv file generated: mock_empty_register.csv\n"
          ]
        }
      ]
    },
    {
      "cell_type": "markdown",
      "source": [
        "## Count empty cells\n"
      ],
      "metadata": {
        "id": "6QroJ8vPFkcz"
      }
    },
    {
      "cell_type": "code",
      "source": [
        "df = pd.read_csv(filepath_test)\n",
        "df.isna().sum()"
      ],
      "metadata": {
        "colab": {
          "base_uri": "https://localhost:8080/"
        },
        "id": "ryA2jGBpGpW2",
        "outputId": "0c1d47b5-b485-492a-c55b-e299653b4859"
      },
      "execution_count": 72,
      "outputs": [
        {
          "output_type": "execute_result",
          "data": {
            "text/plain": [
              "Unnamed: 0     0\n",
              "id             0\n",
              "firstname     19\n",
              "lastname      22\n",
              "email         18\n",
              "email2        17\n",
              "profession    24\n",
              "dtype: int64"
            ]
          },
          "metadata": {},
          "execution_count": 72
        }
      ]
    },
    {
      "cell_type": "code",
      "source": [
        "# import cProfiler\n",
        "# import stats\n",
        "\n",
        "# profiler = cProfile.Profile()\n",
        "# profiler.enable()\n",
        "\n",
        "# f()\n",
        "\n",
        "# profiler.disable()\n",
        "# stats.print_state(())"
      ],
      "metadata": {
        "id": "SH326D-8Xx50"
      },
      "execution_count": null,
      "outputs": []
    }
  ]
}